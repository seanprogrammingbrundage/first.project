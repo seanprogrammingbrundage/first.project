{
 "cells": [
  {
   "cell_type": "code",
   "execution_count": 29,
   "metadata": {
    "collapsed": true,
    "ExecuteTime": {
     "end_time": "2023-05-03T15:38:54.125834Z",
     "start_time": "2023-05-03T15:38:54.031514Z"
    }
   },
   "outputs": [],
   "source": [
    "import numpy as np\n",
    "import pandas as pd\n",
    "from sklearn.ensemble import RandomForestClassifier\n",
    "from sklearn.metrics import accuracy_score\n",
    "from sklearn.model_selection import train_test_split"
   ]
  },
  {
   "cell_type": "code",
   "execution_count": 30,
   "outputs": [],
   "source": [
    "train=pd.read_csv(\"Training.csv\")\n",
    "test=pd.read_csv(\"Testing.csv\")"
   ],
   "metadata": {
    "collapsed": false,
    "ExecuteTime": {
     "end_time": "2023-05-03T15:38:54.200889Z",
     "start_time": "2023-05-03T15:38:54.046754Z"
    }
   }
  },
  {
   "cell_type": "code",
   "execution_count": 31,
   "outputs": [
    {
     "data": {
      "text/plain": "   itching  skin_rash  nodal_skin_eruptions  continuous_sneezing  shivering   \n0        1          1                     1                    0          0  \\\n1        0          1                     1                    0          0   \n2        1          0                     1                    0          0   \n3        1          1                     0                    0          0   \n4        1          1                     1                    0          0   \n\n   chills  joint_pain  stomach_pain  acidity  ulcers_on_tongue  ...  scurring   \n0       0           0             0        0                 0  ...         0  \\\n1       0           0             0        0                 0  ...         0   \n2       0           0             0        0                 0  ...         0   \n3       0           0             0        0                 0  ...         0   \n4       0           0             0        0                 0  ...         0   \n\n   skin_peeling  silver_like_dusting  small_dents_in_nails   \n0             0                    0                     0  \\\n1             0                    0                     0   \n2             0                    0                     0   \n3             0                    0                     0   \n4             0                    0                     0   \n\n   inflammatory_nails  blister  red_sore_around_nose  yellow_crust_ooze   \n0                   0        0                     0                  0  \\\n1                   0        0                     0                  0   \n2                   0        0                     0                  0   \n3                   0        0                     0                  0   \n4                   0        0                     0                  0   \n\n          prognosis  Unnamed: 133  \n0  Fungal infection           NaN  \n1  Fungal infection           NaN  \n2  Fungal infection           NaN  \n3  Fungal infection           NaN  \n4  Fungal infection           NaN  \n\n[5 rows x 134 columns]",
      "text/html": "<div>\n<style scoped>\n    .dataframe tbody tr th:only-of-type {\n        vertical-align: middle;\n    }\n\n    .dataframe tbody tr th {\n        vertical-align: top;\n    }\n\n    .dataframe thead th {\n        text-align: right;\n    }\n</style>\n<table border=\"1\" class=\"dataframe\">\n  <thead>\n    <tr style=\"text-align: right;\">\n      <th></th>\n      <th>itching</th>\n      <th>skin_rash</th>\n      <th>nodal_skin_eruptions</th>\n      <th>continuous_sneezing</th>\n      <th>shivering</th>\n      <th>chills</th>\n      <th>joint_pain</th>\n      <th>stomach_pain</th>\n      <th>acidity</th>\n      <th>ulcers_on_tongue</th>\n      <th>...</th>\n      <th>scurring</th>\n      <th>skin_peeling</th>\n      <th>silver_like_dusting</th>\n      <th>small_dents_in_nails</th>\n      <th>inflammatory_nails</th>\n      <th>blister</th>\n      <th>red_sore_around_nose</th>\n      <th>yellow_crust_ooze</th>\n      <th>prognosis</th>\n      <th>Unnamed: 133</th>\n    </tr>\n  </thead>\n  <tbody>\n    <tr>\n      <th>0</th>\n      <td>1</td>\n      <td>1</td>\n      <td>1</td>\n      <td>0</td>\n      <td>0</td>\n      <td>0</td>\n      <td>0</td>\n      <td>0</td>\n      <td>0</td>\n      <td>0</td>\n      <td>...</td>\n      <td>0</td>\n      <td>0</td>\n      <td>0</td>\n      <td>0</td>\n      <td>0</td>\n      <td>0</td>\n      <td>0</td>\n      <td>0</td>\n      <td>Fungal infection</td>\n      <td>NaN</td>\n    </tr>\n    <tr>\n      <th>1</th>\n      <td>0</td>\n      <td>1</td>\n      <td>1</td>\n      <td>0</td>\n      <td>0</td>\n      <td>0</td>\n      <td>0</td>\n      <td>0</td>\n      <td>0</td>\n      <td>0</td>\n      <td>...</td>\n      <td>0</td>\n      <td>0</td>\n      <td>0</td>\n      <td>0</td>\n      <td>0</td>\n      <td>0</td>\n      <td>0</td>\n      <td>0</td>\n      <td>Fungal infection</td>\n      <td>NaN</td>\n    </tr>\n    <tr>\n      <th>2</th>\n      <td>1</td>\n      <td>0</td>\n      <td>1</td>\n      <td>0</td>\n      <td>0</td>\n      <td>0</td>\n      <td>0</td>\n      <td>0</td>\n      <td>0</td>\n      <td>0</td>\n      <td>...</td>\n      <td>0</td>\n      <td>0</td>\n      <td>0</td>\n      <td>0</td>\n      <td>0</td>\n      <td>0</td>\n      <td>0</td>\n      <td>0</td>\n      <td>Fungal infection</td>\n      <td>NaN</td>\n    </tr>\n    <tr>\n      <th>3</th>\n      <td>1</td>\n      <td>1</td>\n      <td>0</td>\n      <td>0</td>\n      <td>0</td>\n      <td>0</td>\n      <td>0</td>\n      <td>0</td>\n      <td>0</td>\n      <td>0</td>\n      <td>...</td>\n      <td>0</td>\n      <td>0</td>\n      <td>0</td>\n      <td>0</td>\n      <td>0</td>\n      <td>0</td>\n      <td>0</td>\n      <td>0</td>\n      <td>Fungal infection</td>\n      <td>NaN</td>\n    </tr>\n    <tr>\n      <th>4</th>\n      <td>1</td>\n      <td>1</td>\n      <td>1</td>\n      <td>0</td>\n      <td>0</td>\n      <td>0</td>\n      <td>0</td>\n      <td>0</td>\n      <td>0</td>\n      <td>0</td>\n      <td>...</td>\n      <td>0</td>\n      <td>0</td>\n      <td>0</td>\n      <td>0</td>\n      <td>0</td>\n      <td>0</td>\n      <td>0</td>\n      <td>0</td>\n      <td>Fungal infection</td>\n      <td>NaN</td>\n    </tr>\n  </tbody>\n</table>\n<p>5 rows × 134 columns</p>\n</div>"
     },
     "execution_count": 31,
     "metadata": {},
     "output_type": "execute_result"
    }
   ],
   "source": [
    "train.head()"
   ],
   "metadata": {
    "collapsed": false,
    "ExecuteTime": {
     "end_time": "2023-05-03T15:38:54.243285Z",
     "start_time": "2023-05-03T15:38:54.171272Z"
    }
   }
  },
  {
   "cell_type": "code",
   "execution_count": 32,
   "outputs": [],
   "source": [
    "train=train.drop([\"Unnamed: 133\"],axis=1)\n",
    "train.prognosis.value_counts()\n",
    "\n",
    "train.isna().sum()\n",
    "\n",
    "P = train[[\"prognosis\"]]\n",
    "X = train.drop([\"prognosis\"],axis=1)\n",
    "Y = test.drop([\"prognosis\"],axis=1)\n",
    "xtrain,xtest,ytrain,ytest = train_test_split(X,P,test_size=0.2,random_state=42)\n"
   ],
   "metadata": {
    "collapsed": false,
    "ExecuteTime": {
     "end_time": "2023-05-03T15:38:54.518965Z",
     "start_time": "2023-05-03T15:38:54.297197Z"
    }
   }
  },
  {
   "cell_type": "code",
   "execution_count": 33,
   "outputs": [
    {
     "name": "stderr",
     "output_type": "stream",
     "text": [
      "/var/folders/rk/v40ygg_x06xf81d00xzj_63r0000gq/T/ipykernel_20349/3781917985.py:2: DataConversionWarning: A column-vector y was passed when a 1d array was expected. Please change the shape of y to (n_samples,), for example using ravel().\n",
      "  model_rf = rf.fit(xtrain,ytrain)\n"
     ]
    },
    {
     "name": "stdout",
     "output_type": "stream",
     "text": [
      "training accuracy is: 1.0\n",
      "testing accuracy is: 1.0\n"
     ]
    }
   ],
   "source": [
    "rf= RandomForestClassifier(random_state=42)\n",
    "model_rf = rf.fit(xtrain,ytrain)\n",
    "tr_pred_rf = model_rf.predict(xtrain)\n",
    "ts_pred_rf = model_rf.predict(xtest)\n",
    "\n",
    "print(\"training accuracy is:\",accuracy_score(ytrain,tr_pred_rf))\n",
    "print(\"testing accuracy is:\",accuracy_score(ytest,ts_pred_rf))"
   ],
   "metadata": {
    "collapsed": false,
    "ExecuteTime": {
     "end_time": "2023-05-03T15:38:56.170515Z",
     "start_time": "2023-05-03T15:38:54.453805Z"
    }
   }
  },
  {
   "cell_type": "code",
   "execution_count": 34,
   "outputs": [
    {
     "data": {
      "text/plain": "                                  prognosis   \n0                          Fungal infection  \\\n1                                   Allergy   \n2                                      GERD   \n3                       Chronic cholestasis   \n4                             Drug Reaction   \n5                       Peptic ulcer diseae   \n6                                      AIDS   \n7                                 Diabetes    \n8                           Gastroenteritis   \n9                          Bronchial Asthma   \n10                            Hypertension    \n11                                 Migraine   \n12                     Cervical spondylosis   \n13             Paralysis (brain hemorrhage)   \n14                                 Jaundice   \n15                                  Malaria   \n16                              Chicken pox   \n17                                   Dengue   \n18                                  Typhoid   \n19                              hepatitis A   \n20                              Hepatitis B   \n21                              Hepatitis C   \n22                              Hepatitis D   \n23                              Hepatitis E   \n24                      Alcoholic hepatitis   \n25                             Tuberculosis   \n26                              Common Cold   \n27                                Pneumonia   \n28             Dimorphic hemmorhoids(piles)   \n29                             Heart attack   \n30                           Varicose veins   \n31                           Hypothyroidism   \n32                          Hyperthyroidism   \n33                             Hypoglycemia   \n34                          Osteoarthristis   \n35                                Arthritis   \n36  (vertigo) Paroymsal  Positional Vertigo   \n37                                     Acne   \n38                  Urinary tract infection   \n39                                Psoriasis   \n40                                 Impetigo   \n41                         Fungal infection   \n42                                  Unknown   \n\n                                  predicted  \n0                          Fungal infection  \n1                                   Allergy  \n2                                      GERD  \n3                       Chronic cholestasis  \n4                             Drug Reaction  \n5                       Peptic ulcer diseae  \n6                                      AIDS  \n7                                 Diabetes   \n8                           Gastroenteritis  \n9                          Bronchial Asthma  \n10                            Hypertension   \n11                                 Migraine  \n12                     Cervical spondylosis  \n13             Paralysis (brain hemorrhage)  \n14                                 Jaundice  \n15                                  Malaria  \n16                              Chicken pox  \n17                                   Dengue  \n18                                  Typhoid  \n19                              hepatitis A  \n20                              Hepatitis B  \n21                              Hepatitis C  \n22                              Hepatitis D  \n23                              Hepatitis E  \n24                      Alcoholic hepatitis  \n25                             Tuberculosis  \n26                              Common Cold  \n27                                Pneumonia  \n28             Dimorphic hemmorhoids(piles)  \n29                             Heart attack  \n30                           Varicose veins  \n31                           Hypothyroidism  \n32                          Hyperthyroidism  \n33                             Hypoglycemia  \n34                          Osteoarthristis  \n35                                Arthritis  \n36  (vertigo) Paroymsal  Positional Vertigo  \n37                                     Acne  \n38                  Urinary tract infection  \n39                                Psoriasis  \n40                                 Impetigo  \n41                              Chicken pox  \n42                              Common Cold  ",
      "text/html": "<div>\n<style scoped>\n    .dataframe tbody tr th:only-of-type {\n        vertical-align: middle;\n    }\n\n    .dataframe tbody tr th {\n        vertical-align: top;\n    }\n\n    .dataframe thead th {\n        text-align: right;\n    }\n</style>\n<table border=\"1\" class=\"dataframe\">\n  <thead>\n    <tr style=\"text-align: right;\">\n      <th></th>\n      <th>prognosis</th>\n      <th>predicted</th>\n    </tr>\n  </thead>\n  <tbody>\n    <tr>\n      <th>0</th>\n      <td>Fungal infection</td>\n      <td>Fungal infection</td>\n    </tr>\n    <tr>\n      <th>1</th>\n      <td>Allergy</td>\n      <td>Allergy</td>\n    </tr>\n    <tr>\n      <th>2</th>\n      <td>GERD</td>\n      <td>GERD</td>\n    </tr>\n    <tr>\n      <th>3</th>\n      <td>Chronic cholestasis</td>\n      <td>Chronic cholestasis</td>\n    </tr>\n    <tr>\n      <th>4</th>\n      <td>Drug Reaction</td>\n      <td>Drug Reaction</td>\n    </tr>\n    <tr>\n      <th>5</th>\n      <td>Peptic ulcer diseae</td>\n      <td>Peptic ulcer diseae</td>\n    </tr>\n    <tr>\n      <th>6</th>\n      <td>AIDS</td>\n      <td>AIDS</td>\n    </tr>\n    <tr>\n      <th>7</th>\n      <td>Diabetes</td>\n      <td>Diabetes</td>\n    </tr>\n    <tr>\n      <th>8</th>\n      <td>Gastroenteritis</td>\n      <td>Gastroenteritis</td>\n    </tr>\n    <tr>\n      <th>9</th>\n      <td>Bronchial Asthma</td>\n      <td>Bronchial Asthma</td>\n    </tr>\n    <tr>\n      <th>10</th>\n      <td>Hypertension</td>\n      <td>Hypertension</td>\n    </tr>\n    <tr>\n      <th>11</th>\n      <td>Migraine</td>\n      <td>Migraine</td>\n    </tr>\n    <tr>\n      <th>12</th>\n      <td>Cervical spondylosis</td>\n      <td>Cervical spondylosis</td>\n    </tr>\n    <tr>\n      <th>13</th>\n      <td>Paralysis (brain hemorrhage)</td>\n      <td>Paralysis (brain hemorrhage)</td>\n    </tr>\n    <tr>\n      <th>14</th>\n      <td>Jaundice</td>\n      <td>Jaundice</td>\n    </tr>\n    <tr>\n      <th>15</th>\n      <td>Malaria</td>\n      <td>Malaria</td>\n    </tr>\n    <tr>\n      <th>16</th>\n      <td>Chicken pox</td>\n      <td>Chicken pox</td>\n    </tr>\n    <tr>\n      <th>17</th>\n      <td>Dengue</td>\n      <td>Dengue</td>\n    </tr>\n    <tr>\n      <th>18</th>\n      <td>Typhoid</td>\n      <td>Typhoid</td>\n    </tr>\n    <tr>\n      <th>19</th>\n      <td>hepatitis A</td>\n      <td>hepatitis A</td>\n    </tr>\n    <tr>\n      <th>20</th>\n      <td>Hepatitis B</td>\n      <td>Hepatitis B</td>\n    </tr>\n    <tr>\n      <th>21</th>\n      <td>Hepatitis C</td>\n      <td>Hepatitis C</td>\n    </tr>\n    <tr>\n      <th>22</th>\n      <td>Hepatitis D</td>\n      <td>Hepatitis D</td>\n    </tr>\n    <tr>\n      <th>23</th>\n      <td>Hepatitis E</td>\n      <td>Hepatitis E</td>\n    </tr>\n    <tr>\n      <th>24</th>\n      <td>Alcoholic hepatitis</td>\n      <td>Alcoholic hepatitis</td>\n    </tr>\n    <tr>\n      <th>25</th>\n      <td>Tuberculosis</td>\n      <td>Tuberculosis</td>\n    </tr>\n    <tr>\n      <th>26</th>\n      <td>Common Cold</td>\n      <td>Common Cold</td>\n    </tr>\n    <tr>\n      <th>27</th>\n      <td>Pneumonia</td>\n      <td>Pneumonia</td>\n    </tr>\n    <tr>\n      <th>28</th>\n      <td>Dimorphic hemmorhoids(piles)</td>\n      <td>Dimorphic hemmorhoids(piles)</td>\n    </tr>\n    <tr>\n      <th>29</th>\n      <td>Heart attack</td>\n      <td>Heart attack</td>\n    </tr>\n    <tr>\n      <th>30</th>\n      <td>Varicose veins</td>\n      <td>Varicose veins</td>\n    </tr>\n    <tr>\n      <th>31</th>\n      <td>Hypothyroidism</td>\n      <td>Hypothyroidism</td>\n    </tr>\n    <tr>\n      <th>32</th>\n      <td>Hyperthyroidism</td>\n      <td>Hyperthyroidism</td>\n    </tr>\n    <tr>\n      <th>33</th>\n      <td>Hypoglycemia</td>\n      <td>Hypoglycemia</td>\n    </tr>\n    <tr>\n      <th>34</th>\n      <td>Osteoarthristis</td>\n      <td>Osteoarthristis</td>\n    </tr>\n    <tr>\n      <th>35</th>\n      <td>Arthritis</td>\n      <td>Arthritis</td>\n    </tr>\n    <tr>\n      <th>36</th>\n      <td>(vertigo) Paroymsal  Positional Vertigo</td>\n      <td>(vertigo) Paroymsal  Positional Vertigo</td>\n    </tr>\n    <tr>\n      <th>37</th>\n      <td>Acne</td>\n      <td>Acne</td>\n    </tr>\n    <tr>\n      <th>38</th>\n      <td>Urinary tract infection</td>\n      <td>Urinary tract infection</td>\n    </tr>\n    <tr>\n      <th>39</th>\n      <td>Psoriasis</td>\n      <td>Psoriasis</td>\n    </tr>\n    <tr>\n      <th>40</th>\n      <td>Impetigo</td>\n      <td>Impetigo</td>\n    </tr>\n    <tr>\n      <th>41</th>\n      <td>Fungal infection</td>\n      <td>Chicken pox</td>\n    </tr>\n    <tr>\n      <th>42</th>\n      <td>Unknown</td>\n      <td>Common Cold</td>\n    </tr>\n  </tbody>\n</table>\n</div>"
     },
     "execution_count": 34,
     "metadata": {},
     "output_type": "execute_result"
    }
   ],
   "source": [
    "test.join(pd.DataFrame(model_rf.predict(Y),columns=[\"predicted\"]))[[\"prognosis\",\"predicted\"]]"
   ],
   "metadata": {
    "collapsed": false,
    "ExecuteTime": {
     "end_time": "2023-05-03T15:38:56.243774Z",
     "start_time": "2023-05-03T15:38:56.181723Z"
    }
   }
  },
  {
   "cell_type": "code",
   "execution_count": 35,
   "outputs": [
    {
     "data": {
      "text/plain": "\"df = df.select_dtypes(exclude=['object'])\\ndf=df.fillna(df.mean())\\nA = df.drop('price',axis=1)\\nB = df['price']\""
     },
     "execution_count": 35,
     "metadata": {},
     "output_type": "execute_result"
    }
   ],
   "source": [
    "'''df = df.select_dtypes(exclude=['object'])\n",
    "df=df.fillna(df.mean())\n",
    "A = df.drop('price',axis=1)\n",
    "B = df['price']'''"
   ],
   "metadata": {
    "collapsed": false,
    "ExecuteTime": {
     "end_time": "2023-05-03T15:38:56.313554Z",
     "start_time": "2023-05-03T15:38:56.254434Z"
    }
   }
  },
  {
   "cell_type": "code",
   "execution_count": 36,
   "outputs": [
    {
     "data": {
      "text/plain": "\"A_train, A_test, B_train, B_test = train_test_split(A, B, test_size=0.3, random_state=42)\\nfrom sklearn.ensemble import RandomForestRegressor\\nregressor = RandomForestRegressor(n_estimators = 10, random_state = 42)\\nregressor.fit(A_train, B_train)\\nB_pred = regressor.predict(A_test)\\n\\ndf=pd.DataFrame({'prognosis':B_test, 'predicted':B_pred})\\ndf\""
     },
     "execution_count": 36,
     "metadata": {},
     "output_type": "execute_result"
    }
   ],
   "source": [
    "'''A_train, A_test, B_train, B_test = train_test_split(A, B, test_size=0.3, random_state=42)\n",
    "from sklearn.ensemble import RandomForestRegressor\n",
    "regressor = RandomForestRegressor(n_estimators = 10, random_state = 42)\n",
    "regressor.fit(A_train, B_train)\n",
    "B_pred = regressor.predict(A_test)\n",
    "\n",
    "df=pd.DataFrame({'prognosis':B_test, 'predicted':B_pred})\n",
    "df'''"
   ],
   "metadata": {
    "collapsed": false,
    "ExecuteTime": {
     "end_time": "2023-05-03T15:38:56.352333Z",
     "start_time": "2023-05-03T15:38:56.273064Z"
    }
   }
  },
  {
   "cell_type": "markdown",
   "source": [],
   "metadata": {
    "collapsed": false
   }
  },
  {
   "cell_type": "code",
   "execution_count": 36,
   "outputs": [],
   "source": [],
   "metadata": {
    "collapsed": false,
    "ExecuteTime": {
     "end_time": "2023-05-03T15:38:56.353475Z",
     "start_time": "2023-05-03T15:38:56.293320Z"
    }
   }
  }
 ],
 "metadata": {
  "kernelspec": {
   "display_name": "Python 3",
   "language": "python",
   "name": "python3"
  },
  "language_info": {
   "codemirror_mode": {
    "name": "ipython",
    "version": 2
   },
   "file_extension": ".py",
   "mimetype": "text/x-python",
   "name": "python",
   "nbconvert_exporter": "python",
   "pygments_lexer": "ipython2",
   "version": "2.7.6"
  }
 },
 "nbformat": 4,
 "nbformat_minor": 0
}
